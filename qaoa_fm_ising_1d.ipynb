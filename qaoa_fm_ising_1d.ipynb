{
 "cells": [
  {
   "cell_type": "code",
   "execution_count": 1,
   "metadata": {},
   "outputs": [
    {
     "data": {
      "text/plain": [
       "{'qiskit-terra': '0.17.1', 'qiskit-aer': '0.8.2', 'qiskit-ignis': '0.6.0', 'qiskit-ibmq-provider': '0.12.3', 'qiskit-aqua': '0.9.1', 'qiskit': '0.25.3', 'qiskit-nature': None, 'qiskit-finance': None, 'qiskit-optimization': None, 'qiskit-machine-learning': None}"
      ]
     },
     "execution_count": 1,
     "metadata": {},
     "output_type": "execute_result"
    }
   ],
   "source": [
    "import qiskit\n",
    "qiskit.__qiskit_version__"
   ]
  },
  {
   "cell_type": "code",
   "execution_count": 2,
   "metadata": {},
   "outputs": [],
   "source": [
    "# import warnings; warnings.filterwarnings(\"ignore\")\n",
    "import numpy as np\n",
    "import networkx as nx\n",
    "import matplotlib.pyplot as plt\n",
    "from collections import defaultdict\n",
    "from operator import itemgetter\n",
    "from scipy.optimize import minimize\n",
    "from qiskit import QuantumCircuit, QuantumRegister, ClassicalRegister, execute, Aer\n",
    "from qiskit.visualization import plot_histogram"
   ]
  },
  {
   "cell_type": "markdown",
   "metadata": {},
   "source": [
    "## we will solve a ferromagnetic Ising Hamiltonian\n",
    "\n",
    "$$ \\mathcal{H}=-\\sum_{i}\\sigma^z_i\\sigma^z_{i+1} $$\n",
    "\n",
    "This is a pure classical model with a laternating up-down ground state, which has two fold degeneracy. For system size $L=6$, the ground state energy is: $E_{min}=-6$. The two fold degenerate ground states are $|000000\\rangle~\\&~|111111\\rangle$\n",
    "\n",
    "\n",
    "## creating a lattice of 6 sites in one dimension with PBC in a graph"
   ]
  },
  {
   "cell_type": "code",
   "execution_count": 3,
   "metadata": {},
   "outputs": [
    {
     "data": {
      "image/png": "[encoded data removed]",
      "text/plain": [
       "<Figure size 432x288 with 1 Axes>"
      ]
     },
     "metadata": {},
     "output_type": "display_data"
    }
   ],
   "source": [
    "G = nx.Graph()\n",
    "Lx=6\n",
    "G.add_nodes_from([i for i in range(Lx)])\n",
    "G.add_edges_from([[i,i+1] for i in range(Lx-1)])\n",
    "G.add_edges_from([[Lx-1,0]])\n",
    "options = {\n",
    "    'node_color': 'y',\n",
    "    'node_size': 1000,\n",
    "    'width': 3,\n",
    "}\n",
    "nx.draw(G, with_labels=True,pos=nx.circular_layout(G),**options)"
   ]
  },
  {
   "cell_type": "markdown",
   "metadata": {},
   "source": [
    "## Defining the rotation operator corresponding to the Hamiltonian"
   ]
  },
  {
   "cell_type": "code",
   "execution_count": 4,
   "metadata": {},
   "outputs": [
    {
     "name": "stdout",
     "output_type": "stream",
     "text": [
      "[(0, 1), (0, 5), (1, 2), (2, 3), (3, 4), (4, 5)]\n",
      "6\n"
     ]
    }
   ],
   "source": [
    "print(list(G.edges()))\n",
    "print(G.number_of_nodes())"
   ]
  },
  {
   "cell_type": "code",
   "execution_count": 5,
   "metadata": {},
   "outputs": [],
   "source": [
    "def ham_rot(G,gamma):\n",
    "    L=G.number_of_nodes()\n",
    "    qc=QuantumCircuit(L,L)\n",
    "    for i,j in list(G.edges()):\n",
    "        qc.cx(i,j)\n",
    "        qc.rz(2*gamma,j)\n",
    "        qc.cx(i,j)\n",
    "    return qc"
   ]
  },
  {
   "cell_type": "code",
   "execution_count": 6,
   "metadata": {},
   "outputs": [
    {
     "name": "stdout",
     "output_type": "stream",
     "text": [
      "[(0, 1), (0, 5), (1, 2), (2, 3), (3, 4), (4, 5)]\n"
     ]
    },
    {
     "data": {
      "text/html": [
       "<pre style=\"word-wrap: normal;white-space: pre;background: #fff0;line-height: 1.1;font-family: &quot;Courier New&quot;,Courier,monospace\">                                                                       »\n",
       "q_0: ──■────────────────■────■────────────────────────────■────────────»\n",
       "     ┌─┴─┐┌──────────┐┌─┴─┐  │                            │            »\n",
       "q_1: ┤ X ├┤ RZ(2π/3) ├┤ X ├──┼───────■────────────────────┼────■───────»\n",
       "     └───┘└──────────┘└───┘  │     ┌─┴─┐    ┌──────────┐  │  ┌─┴─┐     »\n",
       "q_2: ────────────────────────┼─────┤ X ├────┤ RZ(2π/3) ├──┼──┤ X ├──■──»\n",
       "                             │     └───┘    └──────────┘  │  └───┘┌─┴─┐»\n",
       "q_3: ────────────────────────┼────────────────────────────┼───────┤ X ├»\n",
       "                             │                            │       └───┘»\n",
       "q_4: ────────────────────────┼────────────────────────────┼────────────»\n",
       "                           ┌─┴─┐┌──────────┐            ┌─┴─┐          »\n",
       "q_5: ──────────────────────┤ X ├┤ RZ(2π/3) ├────────────┤ X ├──────────»\n",
       "                           └───┘└──────────┘            └───┘          »\n",
       "c: 6/══════════════════════════════════════════════════════════════════»\n",
       "                                                                       »\n",
       "«                                                                  \n",
       "«q_0: ─────────────────────────────────────────────────────────────\n",
       "«                                                                  \n",
       "«q_1: ─────────────────────────────────────────────────────────────\n",
       "«                                                                  \n",
       "«q_2: ──────────────■──────────────────────────────────────────────\n",
       "«     ┌──────────┐┌─┴─┐                                            \n",
       "«q_3: ┤ RZ(2π/3) ├┤ X ├──■────────────────■────────────────────────\n",
       "«     └──────────┘└───┘┌─┴─┐┌──────────┐┌─┴─┐                      \n",
       "«q_4: ─────────────────┤ X ├┤ RZ(2π/3) ├┤ X ├──■────────────────■──\n",
       "«                      └───┘└──────────┘└───┘┌─┴─┐┌──────────┐┌─┴─┐\n",
       "«q_5: ───────────────────────────────────────┤ X ├┤ RZ(2π/3) ├┤ X ├\n",
       "«                                            └───┘└──────────┘└───┘\n",
       "«c: 6/═════════════════════════════════════════════════════════════\n",
       "«                                                                  </pre>"
      ],
      "text/plain": [
       "                                                                       »\n",
       "q_0: ──■────────────────■────■────────────────────────────■────────────»\n",
       "     ┌─┴─┐┌──────────┐┌─┴─┐  │                            │            »\n",
       "q_1: ┤ X ├┤ RZ(2π/3) ├┤ X ├──┼───────■────────────────────┼────■───────»\n",
       "     └───┘└──────────┘└───┘  │     ┌─┴─┐    ┌──────────┐  │  ┌─┴─┐     »\n",
       "q_2: ────────────────────────┼─────┤ X ├────┤ RZ(2π/3) ├──┼──┤ X ├──■──»\n",
       "                             │     └───┘    └──────────┘  │  └───┘┌─┴─┐»\n",
       "q_3: ────────────────────────┼────────────────────────────┼───────┤ X ├»\n",
       "                             │                            │       └───┘»\n",
       "q_4: ────────────────────────┼────────────────────────────┼────────────»\n",
       "                           ┌─┴─┐┌──────────┐            ┌─┴─┐          »\n",
       "q_5: ──────────────────────┤ X ├┤ RZ(2π/3) ├────────────┤ X ├──────────»\n",
       "                           └───┘└──────────┘            └───┘          »\n",
       "c: 6/══════════════════════════════════════════════════════════════════»\n",
       "                                                                       »\n",
       "«                                                                  \n",
       "«q_0: ─────────────────────────────────────────────────────────────\n",
       "«                                                                  \n",
       "«q_1: ─────────────────────────────────────────────────────────────\n",
       "«                                                                  \n",
       "«q_2: ──────────────■──────────────────────────────────────────────\n",
       "«     ┌──────────┐┌─┴─┐                                            \n",
       "«q_3: ┤ RZ(2π/3) ├┤ X ├──■────────────────■────────────────────────\n",
       "«     └──────────┘└───┘┌─┴─┐┌──────────┐┌─┴─┐                      \n",
       "«q_4: ─────────────────┤ X ├┤ RZ(2π/3) ├┤ X ├──■────────────────■──\n",
       "«                      └───┘└──────────┘└───┘┌─┴─┐┌──────────┐┌─┴─┐\n",
       "«q_5: ───────────────────────────────────────┤ X ├┤ RZ(2π/3) ├┤ X ├\n",
       "«                                            └───┘└──────────┘└───┘\n",
       "«c: 6/═════════════════════════════════════════════════════════════\n",
       "«                                                                  "
      ]
     },
     "execution_count": 6,
     "metadata": {},
     "output_type": "execute_result"
    }
   ],
   "source": [
    "qc = ham_rot(G, np.pi/3)\n",
    "print(G.edges())\n",
    "qc.draw()"
   ]
  },
  {
   "cell_type": "code",
   "execution_count": 7,
   "metadata": {},
   "outputs": [],
   "source": [
    "def x_field_rot(G, beta):\n",
    "    N = G.number_of_nodes()\n",
    "    qc = QuantumCircuit(N,N)\n",
    "    for n in G.nodes():\n",
    "        qc.rx(2*beta, n)\n",
    "    return qc"
   ]
  },
  {
   "cell_type": "code",
   "execution_count": 8,
   "metadata": {},
   "outputs": [
    {
     "data": {
      "text/html": [
       "<pre style=\"word-wrap: normal;white-space: pre;background: #fff0;line-height: 1.1;font-family: &quot;Courier New&quot;,Courier,monospace\">     ┌──────────┐\n",
       "q_0: ┤ RX(2π/3) ├\n",
       "     ├──────────┤\n",
       "q_1: ┤ RX(2π/3) ├\n",
       "     ├──────────┤\n",
       "q_2: ┤ RX(2π/3) ├\n",
       "     ├──────────┤\n",
       "q_3: ┤ RX(2π/3) ├\n",
       "     ├──────────┤\n",
       "q_4: ┤ RX(2π/3) ├\n",
       "     ├──────────┤\n",
       "q_5: ┤ RX(2π/3) ├\n",
       "     └──────────┘\n",
       "c: 6/════════════\n",
       "                 </pre>"
      ],
      "text/plain": [
       "     ┌──────────┐\n",
       "q_0: ┤ RX(2π/3) ├\n",
       "     ├──────────┤\n",
       "q_1: ┤ RX(2π/3) ├\n",
       "     ├──────────┤\n",
       "q_2: ┤ RX(2π/3) ├\n",
       "     ├──────────┤\n",
       "q_3: ┤ RX(2π/3) ├\n",
       "     ├──────────┤\n",
       "q_4: ┤ RX(2π/3) ├\n",
       "     ├──────────┤\n",
       "q_5: ┤ RX(2π/3) ├\n",
       "     └──────────┘\n",
       "c: 6/════════════\n",
       "                 "
      ]
     },
     "execution_count": 8,
     "metadata": {},
     "output_type": "execute_result"
    }
   ],
   "source": [
    "qc = x_field_rot(G, np.pi/3)\n",
    "qc.draw()"
   ]
  },
  {
   "cell_type": "markdown",
   "metadata": {},
   "source": [
    "## defining the QAOA circuit"
   ]
  },
  {
   "cell_type": "code",
   "execution_count": 9,
   "metadata": {},
   "outputs": [],
   "source": [
    "def qaoa_circuit(G,beta,gamma):\n",
    "    assert(len(beta)==len(gamma))\n",
    "    layer=len(beta)\n",
    "    L=G.number_of_nodes()\n",
    "    qc=QuantumCircuit(L,L)\n",
    "    qc.h(range(L))\n",
    "    for k in range(layer):\n",
    "        qc=qc+ham_rot(G,gamma[k])\n",
    "        qc=qc+x_field_rot(G,beta[k])\n",
    "    qc.measure(range(L), range(L))\n",
    "    return qc"
   ]
  },
  {
   "cell_type": "markdown",
   "metadata": {},
   "source": [
    "### Let's verify that circuit looks right\n",
    "\n",
    "$|\\psi{(\\mathbb{\\beta},\\mathbb{\\gamma})}> =  e^{-i\\beta_p B}e^{-i\\gamma_p C}\\cdots e^{-i\\beta_1 B}e^{-i\\gamma_1 C} H^{\\otimes n} |0>$\n",
    "\n",
    "This is the full circuit, with we will now choose, $p=1~;~\\beta=\\text{x-field angle};~\\gamma=\\text{Hamiltonian angle}$"
   ]
  },
  {
   "cell_type": "code",
   "execution_count": 10,
   "metadata": {},
   "outputs": [
    {
     "name": "stderr",
     "output_type": "stream",
     "text": [
      "/Users/animeshnanda/anaconda3/lib/python3.7/site-packages/ipykernel_launcher.py:8: DeprecationWarning: The QuantumCircuit.__add__() method is being deprecated.Use the compose() method which is more flexible w.r.t circuit register compatibility.\n",
      "  \n",
      "/Users/animeshnanda/anaconda3/lib/python3.7/site-packages/qiskit/circuit/quantumcircuit.py:869: DeprecationWarning: The QuantumCircuit.combine() method is being deprecated. Use the compose() method which is more flexible w.r.t circuit register compatibility.\n",
      "  return self.combine(rhs)\n"
     ]
    },
    {
     "data": {
      "text/html": [
       "<pre style=\"word-wrap: normal;white-space: pre;background: #fff0;line-height: 1.1;font-family: &quot;Courier New&quot;,Courier,monospace\">     ┌───┐                                               ┌──────────┐»\n",
       "q_0: ┤ H ├──■─────────────■────■──────────────────────■──┤ RX(2π/3) ├»\n",
       "     ├───┤┌─┴─┐┌───────┐┌─┴─┐  │                      │  └──────────┘»\n",
       "q_1: ┤ H ├┤ X ├┤ RZ(π) ├┤ X ├──┼──────■───────────────┼───────■──────»\n",
       "     ├───┤└───┘└───────┘└───┘  │    ┌─┴─┐  ┌───────┐  │     ┌─┴─┐    »\n",
       "q_2: ┤ H ├─────────────────────┼────┤ X ├──┤ RZ(π) ├──┼─────┤ X ├────»\n",
       "     ├───┤                     │    └───┘  └───────┘  │     └───┘    »\n",
       "q_3: ┤ H ├─────────────────────┼──────────────────────┼──────────────»\n",
       "     ├───┤                     │                      │              »\n",
       "q_4: ┤ H ├─────────────────────┼──────────────────────┼──────────────»\n",
       "     ├───┤                   ┌─┴─┐┌───────┐         ┌─┴─┐            »\n",
       "q_5: ┤ H ├───────────────────┤ X ├┤ RZ(π) ├─────────┤ X ├────────────»\n",
       "     └───┘                   └───┘└───────┘         └───┘            »\n",
       "c: 6/════════════════════════════════════════════════════════════════»\n",
       "                                                                     »\n",
       "«                          ┌─┐                                                 »\n",
       "«q_0: ─────────────────────┤M├─────────────────────────────────────────────────»\n",
       "«     ┌──────────┐         └╥┘┌─┐                                              »\n",
       "«q_1: ┤ RX(2π/3) ├──────────╫─┤M├──────────────────────────────────────────────»\n",
       "«     └──────────┘          ║ └╥┘     ┌──────────┐         ┌─┐                 »\n",
       "«q_2: ─────■────────────────╫──╫───■──┤ RX(2π/3) ├─────────┤M├─────────────────»\n",
       "«        ┌─┴─┐    ┌───────┐ ║  ║ ┌─┴─┐└──────────┘         └╥┘     ┌──────────┐»\n",
       "«q_3: ───┤ X ├────┤ RZ(π) ├─╫──╫─┤ X ├─────■────────────────╫───■──┤ RX(2π/3) ├»\n",
       "«        └───┘    └───────┘ ║  ║ └───┘   ┌─┴─┐    ┌───────┐ ║ ┌─┴─┐└──────────┘»\n",
       "«q_4: ──────────────────────╫──╫─────────┤ X ├────┤ RZ(π) ├─╫─┤ X ├─────■──────»\n",
       "«                           ║  ║         └───┘    └───────┘ ║ └───┘   ┌─┴─┐    »\n",
       "«q_5: ──────────────────────╫──╫────────────────────────────╫─────────┤ X ├────»\n",
       "«                           ║  ║                            ║         └───┘    »\n",
       "«c: 6/══════════════════════╩══╩════════════════════════════╩══════════════════»\n",
       "«                           0  1                            2                  »\n",
       "«                                        \n",
       "«q_0: ───────────────────────────────────\n",
       "«                                        \n",
       "«q_1: ───────────────────────────────────\n",
       "«                                        \n",
       "«q_2: ───────────────────────────────────\n",
       "«              ┌─┐                       \n",
       "«q_3: ─────────┤M├───────────────────────\n",
       "«              └╥┘     ┌──────────┐┌─┐   \n",
       "«q_4: ──────────╫───■──┤ RX(2π/3) ├┤M├───\n",
       "«     ┌───────┐ ║ ┌─┴─┐├──────────┤└╥┘┌─┐\n",
       "«q_5: ┤ RZ(π) ├─╫─┤ X ├┤ RX(2π/3) ├─╫─┤M├\n",
       "«     └───────┘ ║ └───┘└──────────┘ ║ └╥┘\n",
       "«c: 6/══════════╩═══════════════════╩══╩═\n",
       "«               3                   4  5 </pre>"
      ],
      "text/plain": [
       "     ┌───┐                                               ┌──────────┐»\n",
       "q_0: ┤ H ├──■─────────────■────■──────────────────────■──┤ RX(2π/3) ├»\n",
       "     ├───┤┌─┴─┐┌───────┐┌─┴─┐  │                      │  └──────────┘»\n",
       "q_1: ┤ H ├┤ X ├┤ RZ(π) ├┤ X ├──┼──────■───────────────┼───────■──────»\n",
       "     ├───┤└───┘└───────┘└───┘  │    ┌─┴─┐  ┌───────┐  │     ┌─┴─┐    »\n",
       "q_2: ┤ H ├─────────────────────┼────┤ X ├──┤ RZ(π) ├──┼─────┤ X ├────»\n",
       "     ├───┤                     │    └───┘  └───────┘  │     └───┘    »\n",
       "q_3: ┤ H ├─────────────────────┼──────────────────────┼──────────────»\n",
       "     ├───┤                     │                      │              »\n",
       "q_4: ┤ H ├─────────────────────┼──────────────────────┼──────────────»\n",
       "     ├───┤                   ┌─┴─┐┌───────┐         ┌─┴─┐            »\n",
       "q_5: ┤ H ├───────────────────┤ X ├┤ RZ(π) ├─────────┤ X ├────────────»\n",
       "     └───┘                   └───┘└───────┘         └───┘            »\n",
       "c: 6/════════════════════════════════════════════════════════════════»\n",
       "                                                                     »\n",
       "«                          ┌─┐                                                 »\n",
       "«q_0: ─────────────────────┤M├─────────────────────────────────────────────────»\n",
       "«     ┌──────────┐         └╥┘┌─┐                                              »\n",
       "«q_1: ┤ RX(2π/3) ├──────────╫─┤M├──────────────────────────────────────────────»\n",
       "«     └──────────┘          ║ └╥┘     ┌──────────┐         ┌─┐                 »\n",
       "«q_2: ─────■────────────────╫──╫───■──┤ RX(2π/3) ├─────────┤M├─────────────────»\n",
       "«        ┌─┴─┐    ┌───────┐ ║  ║ ┌─┴─┐└──────────┘         └╥┘     ┌──────────┐»\n",
       "«q_3: ───┤ X ├────┤ RZ(π) ├─╫──╫─┤ X ├─────■────────────────╫───■──┤ RX(2π/3) ├»\n",
       "«        └───┘    └───────┘ ║  ║ └───┘   ┌─┴─┐    ┌───────┐ ║ ┌─┴─┐└──────────┘»\n",
       "«q_4: ──────────────────────╫──╫─────────┤ X ├────┤ RZ(π) ├─╫─┤ X ├─────■──────»\n",
       "«                           ║  ║         └───┘    └───────┘ ║ └───┘   ┌─┴─┐    »\n",
       "«q_5: ──────────────────────╫──╫────────────────────────────╫─────────┤ X ├────»\n",
       "«                           ║  ║                            ║         └───┘    »\n",
       "«c: 6/══════════════════════╩══╩════════════════════════════╩══════════════════»\n",
       "«                           0  1                            2                  »\n",
       "«                                        \n",
       "«q_0: ───────────────────────────────────\n",
       "«                                        \n",
       "«q_1: ───────────────────────────────────\n",
       "«                                        \n",
       "«q_2: ───────────────────────────────────\n",
       "«              ┌─┐                       \n",
       "«q_3: ─────────┤M├───────────────────────\n",
       "«              └╥┘     ┌──────────┐┌─┐   \n",
       "«q_4: ──────────╫───■──┤ RX(2π/3) ├┤M├───\n",
       "«     ┌───────┐ ║ ┌─┴─┐├──────────┤└╥┘┌─┐\n",
       "«q_5: ┤ RZ(π) ├─╫─┤ X ├┤ RX(2π/3) ├─╫─┤M├\n",
       "«     └───────┘ ║ └───┘└──────────┘ ║ └╥┘\n",
       "«c: 6/══════════╩═══════════════════╩══╩═\n",
       "«               3                   4  5 "
      ]
     },
     "execution_count": 10,
     "metadata": {},
     "output_type": "execute_result"
    }
   ],
   "source": [
    "qc = qaoa_circuit(G,[np.pi/3], [np.pi/2])\n",
    "qc.draw()"
   ]
  },
  {
   "cell_type": "markdown",
   "metadata": {},
   "source": [
    "## inverting the count, since qiskit shows the qubit states from bellow"
   ]
  },
  {
   "cell_type": "code",
   "execution_count": 11,
   "metadata": {},
   "outputs": [],
   "source": [
    "def invert_counts(counts):\n",
    "    return {k[::-1]:v for k, v in counts.items()}"
   ]
  },
  {
   "cell_type": "code",
   "execution_count": 12,
   "metadata": {},
   "outputs": [
    {
     "name": "stdout",
     "output_type": "stream",
     "text": [
      "{'010100': 22, '111000': 37, '100010': 37, '010101': 23, '111011': 25, '001000': 26, '111010': 30, '111100': 28, '010010': 26, '000010': 36, '101010': 28, '001010': 32, '000110': 31, '110001': 39, '000000': 32, '000101': 33, '011101': 47, '101101': 31, '110011': 30, '111111': 37, '101000': 23, '001100': 32, '110000': 38, '111110': 30, '100000': 30, '101111': 36, '011100': 29, '100100': 39, '001111': 35, '110101': 36, '001101': 22, '000100': 24, '110010': 35, '101011': 33, '010000': 32, '100110': 32, '011000': 31, '000001': 37, '100101': 29, '100111': 42, '101100': 28, '000011': 30, '101001': 29, '110110': 36, '001001': 28, '001011': 34, '011011': 36, '011110': 29, '000111': 43, '011111': 29, '100011': 31, '010111': 31, '010001': 39, '010110': 37, '100001': 21, '111001': 37, '111101': 35, '011010': 28, '010011': 29, '011001': 33, '110111': 26, '001110': 33, '110100': 39, '101110': 32}\n"
     ]
    }
   ],
   "source": [
    "backend = Aer.get_backend('qasm_simulator')\n",
    "job = execute(qc, backend,shots=2048)          # this is just a test run for the above circuit\n",
    "result = job.result()\n",
    "print(result.get_counts())"
   ]
  },
  {
   "cell_type": "code",
   "execution_count": 13,
   "metadata": {},
   "outputs": [
    {
     "data": {
      "text/plain": [
       "(6, -2)"
      ]
     },
     "execution_count": 13,
     "metadata": {},
     "output_type": "execute_result"
    }
   ],
   "source": [
    "def ising_energy(x,G):\n",
    "    ener = 0\n",
    "    for i, j in G.edges():\n",
    "        if x[i] != x[j]:\n",
    "            # the edge is cut\n",
    "            ener += 1\n",
    "        elif x[i] == x[j]:\n",
    "            # the edge is cut\n",
    "            ener -= 1\n",
    "    return ener\n",
    "\n",
    "ising_energy('010101', G),ising_energy('111110', G)"
   ]
  },
  {
   "cell_type": "code",
   "execution_count": 14,
   "metadata": {},
   "outputs": [
    {
     "data": {
      "text/plain": [
       "-0.048828125"
      ]
     },
     "execution_count": 14,
     "metadata": {},
     "output_type": "execute_result"
    }
   ],
   "source": [
    "def compute_ising_energy(counts, G):\n",
    "    energy = 0\n",
    "    total_counts = 0\n",
    "    for meas, meas_count in counts.items():             # meas and meas_count are the state and freq\n",
    "#         print(type(meas),meas_count)\n",
    "        obj_for_meas = ising_energy(meas, G)              # calling the state to compute the energy\n",
    "        energy += obj_for_meas * meas_count\n",
    "        total_counts += meas_count                      # energy is total energy of all the states\n",
    "    return energy / total_counts                        # total_counts is total number of sampling\n",
    "\n",
    "compute_ising_energy(invert_counts(result.get_counts()), G)"
   ]
  },
  {
   "cell_type": "code",
   "execution_count": 15,
   "metadata": {},
   "outputs": [],
   "source": [
    "invert_counts(result.get_counts());"
   ]
  },
  {
   "cell_type": "markdown",
   "metadata": {},
   "source": [
    "# Using QASM simulator"
   ]
  },
  {
   "cell_type": "code",
   "execution_count": 16,
   "metadata": {},
   "outputs": [],
   "source": [
    "# here p is the number of layer used for the optimize\n",
    "\n",
    "def get_black_box_objective(G,p):\n",
    "    backend = Aer.get_backend('qasm_simulator')\n",
    "    def f(theta):\n",
    "        # let's assume first half is betas, second half is gammas\n",
    "        # theta is a 2*p length array, first 'p' entries are gamma and rest are beta\n",
    "        beta = theta[:p]\n",
    "        gamma = theta[p:]\n",
    "        qc = qaoa_circuit(G,beta, gamma)\n",
    "        counts = execute(qc, backend,shots=1024, seed_simulator=100).result().get_counts()\n",
    "        # return the energy\n",
    "        return compute_ising_energy(invert_counts(counts), G)\n",
    "    return f"
   ]
  },
  {
   "cell_type": "code",
   "execution_count": 17,
   "metadata": {},
   "outputs": [
    {
     "data": {
      "text/plain": [
       "     fun: -5.98828125\n",
       "   maxcv: 0.0\n",
       " message: 'Optimization terminated successfully.'\n",
       "    nfev: 107\n",
       "  status: 1\n",
       " success: True\n",
       "       x: array([1.67407873, 2.36007028, 2.00645997, 2.28728791, 0.67776056,\n",
       "       3.45385437, 6.18560017, 2.25447387, 0.80585822, 3.58150209])"
      ]
     },
     "execution_count": 17,
     "metadata": {},
     "output_type": "execute_result"
    }
   ],
   "source": [
    "# p is the number of QAOA alternating operators\n",
    "p = 5\n",
    "obj = get_black_box_objective(G, p)\n",
    "\n",
    "init_point = np.array([0.81069872, 2.2067517 , 1.83830696, 2.15579759, 0.37060699,\n",
    "       2.42068091, 6.1575306 , 2.2453419 , 0.85060091, 3.137845  ])\n",
    "\n",
    "# We are going to limit the number of iterations to 2500\n",
    "res_sample = minimize(obj, init_point, method='COBYLA', options={'maxiter':2500, 'disp': True})\n",
    "res_sample"
   ]
  },
  {
   "cell_type": "code",
   "execution_count": 18,
   "metadata": {},
   "outputs": [
    {
     "data": {
      "text/plain": [
       "{'100001': 1,\n",
       " '001110': 1,\n",
       " '011100': 2,\n",
       " '100011': 2,\n",
       " '111101': 1,\n",
       " '110001': 2,\n",
       " '111100': 1,\n",
       " '111001': 2,\n",
       " '000010': 1,\n",
       " '000000': 1012,\n",
       " '111111': 1023}"
      ]
     },
     "execution_count": 18,
     "metadata": {},
     "output_type": "execute_result"
    }
   ],
   "source": [
    "# Once we have gotten the optimum beta and gamma we run the circuit again with the \n",
    "\n",
    "optimal_theta = res_sample['x']\n",
    "qc = qaoa_circuit(G, optimal_theta[:p], optimal_theta[p:])\n",
    "counts = invert_counts(execute(qc, backend,shots=2048).result().get_counts())\n",
    "counts"
   ]
  },
  {
   "cell_type": "code",
   "execution_count": 19,
   "metadata": {},
   "outputs": [
    {
     "data": {
      "image/png": "[encoded data removed]",
      "text/plain": [
       "<Figure size 864x288 with 1 Axes>"
      ]
     },
     "execution_count": 19,
     "metadata": {},
     "output_type": "execute_result"
    }
   ],
   "source": [
    "plot_histogram(counts,figsize=(12,4))"
   ]
  },
  {
   "cell_type": "code",
   "execution_count": 20,
   "metadata": {},
   "outputs": [
    {
     "name": "stdout",
     "output_type": "stream",
     "text": [
      "Best string: 000000 with cut: 6\n"
     ]
    },
    {
     "data": {
      "image/png": "[encoded data removed]",
      "text/plain": [
       "<Figure size 432x288 with 1 Axes>"
      ]
     },
     "metadata": {},
     "output_type": "display_data"
    }
   ],
   "source": [
    "# get the best solution:\n",
    "best_cut, best_solution = min([(ising_energy(x,G),x) for x in counts.keys()], key=itemgetter(0))\n",
    "print(f\"Best string: {best_solution} with cut: {-best_cut}\")\n",
    "\n",
    "# color the graph nodes by part\n",
    "colors = ['c' if best_solution[node] == '0' else 'y' for node in G]\n",
    "options = {\n",
    "    'node_size': 1000,\n",
    "    'width': 3,\n",
    "}\n",
    "nx.draw(G, with_labels=True,node_color = colors,pos=nx.circular_layout(G),**options)"
   ]
  },
  {
   "cell_type": "markdown",
   "metadata": {},
   "source": [
    "## Using statevector simulator"
   ]
  },
  {
   "cell_type": "code",
   "execution_count": 21,
   "metadata": {},
   "outputs": [],
   "source": [
    "def state_to_ampl_counts(vec, eps=1e-15):\n",
    "    \"\"\"Converts a statevector to a dictionary\n",
    "    of bitstrings and corresponding amplitudes\n",
    "    \"\"\"\n",
    "    qubit_dims = np.log2(vec.shape[0])\n",
    "    if qubit_dims % 1:\n",
    "        raise ValueError(\"Input vector is not a valid statevector for qubits.\")\n",
    "    qubit_dims = int(qubit_dims)\n",
    "    counts = {}\n",
    "    str_format = '0{}b'.format(qubit_dims)\n",
    "    for kk in range(vec.shape[0]):\n",
    "        val = vec[kk]\n",
    "        if val.real**2+val.imag**2 > eps:\n",
    "            counts[format(kk, str_format)] = val\n",
    "    return counts"
   ]
  },
  {
   "cell_type": "code",
   "execution_count": 22,
   "metadata": {},
   "outputs": [],
   "source": [
    "def compute_ising_energy_sv(sv, G):\n",
    "    \"\"\"Compute objective from statevector\n",
    "    For large number of qubits, this is slow. \n",
    "    \"\"\"\n",
    "    counts = state_to_ampl_counts(sv)\n",
    "    return sum(ising_energy(np.array([int(x) for x in k]), G) * (np.abs(v)**2) for k, v in counts.items())"
   ]
  },
  {
   "cell_type": "code",
   "execution_count": 23,
   "metadata": {},
   "outputs": [],
   "source": [
    "def get_qaoa_circuit_sv(G, beta, gamma):\n",
    "    assert(len(beta) == len(gamma))\n",
    "    p = len(beta) # infering number of QAOA steps from the parameters passed\n",
    "    N = G.number_of_nodes()\n",
    "    qc = QuantumCircuit(N,N)\n",
    "    # first, apply a layer of Hadamards\n",
    "    qc.h(range(N))\n",
    "    # second, apply p alternating operators\n",
    "    for k in range(p):\n",
    "        qc=qc+ham_rot(G,gamma[k])\n",
    "        qc=qc+x_field_rot(G,beta[k])\n",
    "    # no measurement in the end!\n",
    "    return qc"
   ]
  },
  {
   "cell_type": "code",
   "execution_count": 24,
   "metadata": {},
   "outputs": [],
   "source": [
    "def get_black_box_objective_sv(G,p):\n",
    "    backend = Aer.get_backend('statevector_simulator')\n",
    "    def f(theta):\n",
    "        # let's assume first half is betas, second half is gammas\n",
    "        beta = theta[:p]\n",
    "        gamma = theta[p:]\n",
    "        qc = get_qaoa_circuit_sv(G,beta, gamma)\n",
    "        sv = execute(qc, backend).result().get_statevector()  # the sv is np.array with complex entries\n",
    "        # return the energy\n",
    "        return compute_ising_energy_sv(sv, G)\n",
    "    return f"
   ]
  },
  {
   "cell_type": "code",
   "execution_count": 25,
   "metadata": {},
   "outputs": [
    {
     "data": {
      "text/plain": [
       "     fun: -5.999999334076713\n",
       "   maxcv: 0.0\n",
       " message: 'Optimization terminated successfully.'\n",
       "    nfev: 227\n",
       "  status: 1\n",
       " success: True\n",
       "       x: array([1.94863293, 3.23845334, 0.69436617, 3.18721787, 0.5292484 ,\n",
       "       2.16392589, 6.35725674, 2.18859856, 3.87582762, 6.00247859])"
      ]
     },
     "execution_count": 25,
     "metadata": {},
     "output_type": "execute_result"
    }
   ],
   "source": [
    "# p is the number of QAOA alternating operators\n",
    "obj = get_black_box_objective_sv(G, p)\n",
    "\n",
    "init_point = np.array([0.81069872, 2.2067517 , 0.83830696, 2.15579759, 0.37060699,\n",
    "       2.42068091, 6.1575306 , 2.2453419 , 3.85060091, 6.137845  ])\n",
    "\n",
    "p = len(init_point)//2\n",
    "\n",
    "# We are going to limit the number of iterations to 2500\n",
    "res_sv = minimize(obj, init_point, method='COBYLA', options={'maxiter':2500, 'disp': True})\n",
    "res_sv"
   ]
  },
  {
   "cell_type": "code",
   "execution_count": 26,
   "metadata": {},
   "outputs": [
    {
     "data": {
      "text/plain": [
       "{'111111': 1015, '000000': 1033}"
      ]
     },
     "execution_count": 26,
     "metadata": {},
     "output_type": "execute_result"
    }
   ],
   "source": [
    "# Once we have gotten the optimum beta and gamma we run the circuit again with the \n",
    "\n",
    "backend = Aer.get_backend('qasm_simulator')\n",
    "\n",
    "optimal_theta = res_sv['x']\n",
    "qc = qaoa_circuit(G, optimal_theta[:p], optimal_theta[p:])\n",
    "counts = invert_counts(execute(qc, backend,shots=2048).result().get_counts())\n",
    "counts"
   ]
  },
  {
   "cell_type": "code",
   "execution_count": 27,
   "metadata": {},
   "outputs": [
    {
     "data": {
      "image/png": "[encoded data removed]",
      "text/plain": [
       "<Figure size 576x288 with 1 Axes>"
      ]
     },
     "execution_count": 27,
     "metadata": {},
     "output_type": "execute_result"
    }
   ],
   "source": [
    "plot_histogram(counts,figsize=(8,4))"
   ]
  },
  {
   "cell_type": "markdown",
   "metadata": {},
   "source": [
    "## Comparison between the angles"
   ]
  },
  {
   "cell_type": "code",
   "execution_count": 28,
   "metadata": {},
   "outputs": [
    {
     "name": "stdout",
     "output_type": "stream",
     "text": [
      "Angles found with samples: beta=[1.67407873 2.36007028 2.00645997 2.28728791 0.67776056], gamma=[3.45385437 6.18560017 2.25447387 0.80585822 3.58150209]\n",
      "Angles found with full state: beta=[1.94863293 3.23845334 0.69436617 3.18721787 0.5292484 ], gamma=[2.16392589 6.35725674 2.18859856 3.87582762 6.00247859]\n"
     ]
    }
   ],
   "source": [
    "print(f\"Angles found with samples: beta={res_sample['x'][:p]}, gamma={res_sample['x'][p:]}\")\n",
    "print(f\"Angles found with full state: beta={res_sv['x'][:p]}, gamma={res_sv['x'][p:]}\")"
   ]
  }
 ],
 "metadata": {
  "kernelspec": {
   "display_name": "Python 3",
   "language": "python",
   "name": "python3"
  },
  "language_info": {
   "codemirror_mode": {
    "name": "ipython",
    "version": 3
   },
   "file_extension": ".py",
   "mimetype": "text/x-python",
   "name": "python",
   "nbconvert_exporter": "python",
   "pygments_lexer": "ipython3",
   "version": "3.7.6"
  }
 },
 "nbformat": 4,
 "nbformat_minor": 4
}
